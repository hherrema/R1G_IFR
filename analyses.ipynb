{
 "cells": [
  {
   "cell_type": "markdown",
   "id": "77cbcf00-52f2-4c7f-92fc-c19079e1c85c",
   "metadata": {},
   "source": [
    "## Analyses"
   ]
  },
  {
   "cell_type": "code",
   "execution_count": 1,
   "id": "46fe7bb5-6f33-434f-9886-1a10aa05c85e",
   "metadata": {},
   "outputs": [],
   "source": [
    "# imports\n",
    "import numpy as np\n",
    "import pandas as pd\n",
    "from tqdm.notebook import tqdm\n",
    "import scipy.stats\n",
    "import analyses.analyses as analyses\n",
    "import warnings; warnings.filterwarnings('ignore')"
   ]
  },
  {
   "cell_type": "code",
   "execution_count": 2,
   "id": "710fefb2-23ab-4497-b19d-30125d45215f",
   "metadata": {},
   "outputs": [],
   "source": [
    "# all processed data\n",
    "dataframe = pd.read_csv('data/data_storage/dataframe.csv')\n",
    "\n",
    "# wordpool\n",
    "wordpool = list(np.loadtxt('data/wordpool/wordpool_ltpFR3.txt', dtype=str))\n",
    "w2v_scores = np.loadtxt('data/wordpool/w2v_scores_ltpFR3.txt')\n",
    "\n",
    "# conditions\n",
    "condition_map = {\n",
    "    0.0: '10-2',\n",
    "    1.0: '20-1',\n",
    "    2.0: '15-2',\n",
    "    3.0: '20-2',\n",
    "    4.0: '30-1',\n",
    "    5.0: '40-1'\n",
    "}"
   ]
  },
  {
   "cell_type": "markdown",
   "id": "2368404f-9e67-4cea-9d1c-40edad75a7e5",
   "metadata": {},
   "source": [
    "### (A) All Data Together\n",
    "\n",
    "#### Standard Free Recall Analyses\n",
    "\n",
    "1. Serial Position Curve\n",
    "2. Primacy and Recency Effect\n",
    "3. Probability of First Recall\n",
    "4. Primacy and Recency Initiation Bias\n",
    "\n",
    "\n",
    "#### Motivation for Recall Initiation Groups\n",
    "\n",
    "5. Correlation of PFR and SPC\n",
    "6. Within Session Recall Initiation Variance\n",
    "7. Change in Recall Initiation Serial Position Across Sessions"
   ]
  },
  {
   "cell_type": "markdown",
   "id": "1d2e19ff-3ed1-44b1-910e-5330d8f4603b",
   "metadata": {},
   "source": [
    "#### A.1) Serial Position Curve"
   ]
  },
  {
   "cell_type": "code",
   "execution_count": 3,
   "id": "e5d4169b-686f-4951-bb93-383fa9302443",
   "metadata": {},
   "outputs": [
    {
     "data": {
      "application/vnd.jupyter.widget-view+json": {
       "model_id": "c6acc76bb32a448b91313ab57093456f",
       "version_major": 2,
       "version_minor": 0
      },
      "text/plain": [
       "  0%|          | 0/1654 [00:00<?, ?it/s]"
      ]
     },
     "metadata": {},
     "output_type": "display_data"
    }
   ],
   "source": [
    "spc_data_all = analyses.spc_all(dataframe, condition_map)\n",
    "spc_data_bsa_all = analyses.spc_btwn_subj_avg_all(spc_data_all)\n",
    "spc_data_bsa_all.to_csv('analyses/dataframes/spc_data_bsa_all.csv', index=False)"
   ]
  },
  {
   "cell_type": "markdown",
   "id": "ea2d5676-5ae6-4865-ae08-87189163af93",
   "metadata": {},
   "source": [
    "#### A.2) Primacy and Recency Effect"
   ]
  },
  {
   "cell_type": "code",
   "execution_count": 4,
   "id": "f6cfa71a-fbba-4f14-bf61-1ee5963ffed3",
   "metadata": {},
   "outputs": [],
   "source": [
    "spc_prim_rec_lr_all = spc_data_bsa_all.apply(analyses.prim_rec_lr, axis=1)\n",
    "spc_prim_rec_lr_all.to_csv('analyses/dataframes/spc_prim_rec_lr_all.csv', index=False)"
   ]
  },
  {
   "cell_type": "markdown",
   "id": "e0e3fd6a-8e02-4759-9a6f-41f8fe80f766",
   "metadata": {},
   "source": [
    "#### A.3) Probability of First Recall"
   ]
  },
  {
   "cell_type": "code",
   "execution_count": 5,
   "id": "c55d0ab5-08be-4736-9a45-38ec4910b4c6",
   "metadata": {},
   "outputs": [
    {
     "data": {
      "application/vnd.jupyter.widget-view+json": {
       "model_id": "32bd46d2e81541968419d2f47c05fecf",
       "version_major": 2,
       "version_minor": 0
      },
      "text/plain": [
       "  0%|          | 0/1654 [00:00<?, ?it/s]"
      ]
     },
     "metadata": {},
     "output_type": "display_data"
    }
   ],
   "source": [
    "# all trials, including R1 intrusions\n",
    "pfr_data_all = analyses.pfr_all(dataframe, condition_map, toggle=False)\n",
    "pfr_data_bsa_all = analyses.pfr_btwn_subj_avg_all(pfr_data_all)\n",
    "pfr_data_bsa_all.to_csv('analyses/dataframes/pfr_data_bsa_all.csv', index=False)"
   ]
  },
  {
   "cell_type": "code",
   "execution_count": 6,
   "id": "5ee73f6b-d766-4c68-b3dd-61b4da25e150",
   "metadata": {},
   "outputs": [
    {
     "data": {
      "application/vnd.jupyter.widget-view+json": {
       "model_id": "c2eb9276ce1e40599b0f888a5cc80080",
       "version_major": 2,
       "version_minor": 0
      },
      "text/plain": [
       "  0%|          | 0/1654 [00:00<?, ?it/s]"
      ]
     },
     "metadata": {},
     "output_type": "display_data"
    }
   ],
   "source": [
    "# only trials initiated with correct recall\n",
    "pfr_data_only_cr_all = analyses.pfr_all(dataframe, condition_map, toggle=True)\n",
    "pfr_data_only_cr_bsa_all = analyses.pfr_btwn_subj_avg_all(pfr_data_only_cr_all)\n",
    "pfr_data_only_cr_bsa_all.to_csv('analyses/dataframes/pfr_data_only_cr_bsa_all.csv', index=False)"
   ]
  },
  {
   "cell_type": "markdown",
   "id": "76e4e8fa-9ec1-4831-9834-387ccbc5c14e",
   "metadata": {},
   "source": [
    "#### A.4) Primacy and Recency Initiation Bias"
   ]
  },
  {
   "cell_type": "code",
   "execution_count": 7,
   "id": "bf2f0527-0144-4522-a6e9-b15ad4ae47da",
   "metadata": {},
   "outputs": [
    {
     "data": {
      "application/vnd.jupyter.widget-view+json": {
       "model_id": "58ced058430c42a88bf10d0acf3898d4",
       "version_major": 2,
       "version_minor": 0
      },
      "text/plain": [
       "0it [00:00, ?it/s]"
      ]
     },
     "metadata": {},
     "output_type": "display_data"
    }
   ],
   "source": [
    "prim_rec_pfr = analyses.pfr_primacy_recency_bias(pfr_data_bsa_all)\n",
    "prim_rec_pfr.to_csv('analyses/dataframes/prim_rec_pfr.csv', index=False)"
   ]
  },
  {
   "cell_type": "markdown",
   "id": "b9d9ba6f-808c-4265-8409-aaf53d0a8dd3",
   "metadata": {},
   "source": [
    "#### A.5) Correlation of PFR and SPC"
   ]
  },
  {
   "cell_type": "code",
   "execution_count": 8,
   "id": "d3c1a30c-0add-4fe4-91c0-46e26f01a0a1",
   "metadata": {},
   "outputs": [],
   "source": [
    "pfr_spc_corrs = analyses.pfr_spc_correlation(pfr_data_bsa_all, spc_data_bsa_all)\n",
    "pfr_spc_corrs.to_csv('analyses/dataframes/pfr_spc_corrs.csv', index=False)"
   ]
  },
  {
   "cell_type": "markdown",
   "id": "489da944-e316-408e-9db5-9be70d7663d7",
   "metadata": {},
   "source": [
    "#### A.6) Within Session Recall Initiation Variance"
   ]
  },
  {
   "cell_type": "code",
   "execution_count": 9,
   "id": "fb8fada5-6851-42b9-a691-eb56035c8d9e",
   "metadata": {},
   "outputs": [
    {
     "data": {
      "application/vnd.jupyter.widget-view+json": {
       "model_id": "e71dad2c67c64cbcac53c9f421396c76",
       "version_major": 2,
       "version_minor": 0
      },
      "text/plain": [
       "  0%|          | 0/1654 [00:00<?, ?it/s]"
      ]
     },
     "metadata": {},
     "output_type": "display_data"
    }
   ],
   "source": [
    "r1_var_data = analyses.r1_variance(dataframe, condition_map, pfr_data_only_cr_bsa_all)\n",
    "r1_var_data_bsa = analyses.r1_variance_btwn_subj_avg(r1_var_data)\n",
    "r1_var_data_bsa.to_csv('analyses/dataframes/r1_var_data_bsa.csv', index=False)"
   ]
  },
  {
   "cell_type": "markdown",
   "id": "0927ad30-8ec5-42a7-9743-a13895dd82e8",
   "metadata": {},
   "source": [
    "#### A.7) Change in Recall Initiation Serial Position Across Sessions"
   ]
  },
  {
   "cell_type": "code",
   "execution_count": 10,
   "id": "c5da753a-8830-4c36-b1da-f25a2d519e23",
   "metadata": {},
   "outputs": [
    {
     "data": {
      "application/vnd.jupyter.widget-view+json": {
       "model_id": "6e5108e7004d44ccad812b074d55bec6",
       "version_major": 2,
       "version_minor": 0
      },
      "text/plain": [
       "  0%|          | 0/1654 [00:00<?, ?it/s]"
      ]
     },
     "metadata": {},
     "output_type": "display_data"
    },
    {
     "data": {
      "application/vnd.jupyter.widget-view+json": {
       "model_id": "b4ff2bc537ff4a7e85236905c67e6359",
       "version_major": 2,
       "version_minor": 0
      },
      "text/plain": [
       "  0%|          | 0/456 [00:00<?, ?it/s]"
      ]
     },
     "metadata": {},
     "output_type": "display_data"
    }
   ],
   "source": [
    "r1_sp_dec_data = analyses.r1_sp_dec(dataframe, condition_map)\n",
    "r1_sp_dec_data_bsa = analyses.r1_sp_dec_btwn_subj_avg(r1_sp_dec_data)\n",
    "r1_sp_dec_data_bsa.to_csv('analyses/dataframes/r1_sp_dec_data_bsa.csv', index=False)"
   ]
  },
  {
   "cell_type": "markdown",
   "id": "d5a22566-2bfe-4e6b-9d51-9f928833769e",
   "metadata": {},
   "source": [
    "### (B) Recall Initiation Groups\n",
    "\n",
    "#### Partition by PFR and Apply Labels\n",
    "\n",
    "#### Re-Run Serial Position Analyses\n",
    "1. Serial Position Curve\n",
    "2. Probability of First Recall\n",
    "\n",
    "#### Recall Performance\n",
    "3. Mean Words Recalled\n",
    "\n",
    "#### Recall Initiation\n",
    "4. Proportion of Lists Initiated with Intrusion\n",
    "5. Initial Response Times\n",
    "\n",
    "#### Recall Dynamics\n",
    "6. Intrusion Rates (PLI, ELI)\n",
    "7. Inter-Response Times\n",
    "8. Temporal Clustering Score\n",
    "9. Lag-CRP\n",
    "10. Semantic Clustering Score"
   ]
  },
  {
   "cell_type": "code",
   "execution_count": 11,
   "id": "f7ffca30-fe9e-409d-9f3e-febb91f83961",
   "metadata": {},
   "outputs": [],
   "source": [
    "# partition groups by PFR\n",
    "# only trials initiated with correct recall\n",
    "r1_groups = pfr_data_only_cr_bsa_all.apply(analyses.r1_groups_partition, axis=1)\n",
    "r1_groups.to_csv('analyses/dataframes/r1_groups.csv', index=False)"
   ]
  },
  {
   "cell_type": "code",
   "execution_count": 12,
   "id": "1e9c3286-90c1-47d2-a6ba-fb5b707b66be",
   "metadata": {},
   "outputs": [],
   "source": [
    "### apply recall initiation group labels to dataframe\n",
    "df_strat = analyses.apply_recall_initiation_labels(r1_groups, dataframe)\n",
    "df_strat.to_csv('data/data_storage/df_strat.csv', index=False)"
   ]
  },
  {
   "cell_type": "markdown",
   "id": "c54703f6-f6bd-40d9-8d59-57a46523c0c7",
   "metadata": {},
   "source": [
    "#### B.1) Serial Position Curve"
   ]
  },
  {
   "cell_type": "code",
   "execution_count": 13,
   "id": "c992e9e3-cb8b-48c3-ab9a-795603cbadd3",
   "metadata": {},
   "outputs": [
    {
     "data": {
      "application/vnd.jupyter.widget-view+json": {
       "model_id": "f583451714ad4fc2b4eefc345936fab1",
       "version_major": 2,
       "version_minor": 0
      },
      "text/plain": [
       "  0%|          | 0/1654 [00:00<?, ?it/s]"
      ]
     },
     "metadata": {},
     "output_type": "display_data"
    }
   ],
   "source": [
    "spc_data = analyses.spc(df_strat, condition_map)\n",
    "spc_data_bsa = analyses.spc_btwn_subj_avg(spc_data)\n",
    "spc_data_bsa.to_csv('analyses/dataframes/spc_data_bsa.csv', index=False)"
   ]
  },
  {
   "cell_type": "markdown",
   "id": "6091da80-c8a0-4564-b82e-40d0959e5c06",
   "metadata": {},
   "source": [
    "#### B.2) Probability of First Recall"
   ]
  },
  {
   "cell_type": "code",
   "execution_count": 14,
   "id": "e3a759d9-3f50-4b0f-a390-b3163806cce5",
   "metadata": {},
   "outputs": [
    {
     "data": {
      "application/vnd.jupyter.widget-view+json": {
       "model_id": "98a7e8a98008484496a1bed739768503",
       "version_major": 2,
       "version_minor": 0
      },
      "text/plain": [
       "  0%|          | 0/1654 [00:00<?, ?it/s]"
      ]
     },
     "metadata": {},
     "output_type": "display_data"
    }
   ],
   "source": [
    "# all trials, including R1 intrusions\n",
    "pfr_data = analyses.pfr(df_strat, condition_map, toggle=False)\n",
    "pfr_data_bsa = analyses.pfr_btwn_subj_avg(pfr_data)\n",
    "pfr_data_bsa.to_csv('analyses/dataframes/pfr_data_bsa.csv', index=False)"
   ]
  },
  {
   "cell_type": "markdown",
   "id": "7f511b92-d0f9-4c89-a5ba-27908330d59c",
   "metadata": {},
   "source": [
    "#### B.3) Mean Words Recalled"
   ]
  },
  {
   "cell_type": "code",
   "execution_count": 15,
   "id": "aca0ead6-8566-45aa-a19b-02783f7c326b",
   "metadata": {},
   "outputs": [
    {
     "data": {
      "application/vnd.jupyter.widget-view+json": {
       "model_id": "14313c9c3c0144a28a2bbb9d8d3ac5dd",
       "version_major": 2,
       "version_minor": 0
      },
      "text/plain": [
       "  0%|          | 0/1654 [00:00<?, ?it/s]"
      ]
     },
     "metadata": {},
     "output_type": "display_data"
    }
   ],
   "source": [
    "mwr_data = analyses.mwr(df_strat, condition_map)\n",
    "mwr_data_bsa = analyses.mwr_btwn_subj_avg(mwr_data)\n",
    "mwr_data_bsa.to_csv('analyses/dataframes/mwr_data_bsa.csv', index=False)"
   ]
  },
  {
   "cell_type": "markdown",
   "id": "c3d9da69-7bc8-4a16-b69e-b47a0f88c770",
   "metadata": {},
   "source": [
    "#### B.4) Proportion of Lists Initiated with Intrusion"
   ]
  },
  {
   "cell_type": "code",
   "execution_count": 16,
   "id": "2b13fd71-db2f-4f9b-8291-d5a07f15cce3",
   "metadata": {},
   "outputs": [
    {
     "data": {
      "application/vnd.jupyter.widget-view+json": {
       "model_id": "f50e8fc2a27848039738f4cd15be7547",
       "version_major": 2,
       "version_minor": 0
      },
      "text/plain": [
       "  0%|          | 0/1654 [00:00<?, ?it/s]"
      ]
     },
     "metadata": {},
     "output_type": "display_data"
    }
   ],
   "source": [
    "r1_intr_data = analyses.r1_intrusion(df_strat, condition_map)\n",
    "r1_intr_data_bsa = analyses.r1_intr_btwn_subj_avg(r1_intr_data)\n",
    "r1_intr_data_bsa.to_csv('analyses/dataframes/r1_intr_data_bsa.csv', index=False)"
   ]
  },
  {
   "cell_type": "markdown",
   "id": "0d0f90f8-6aa3-49b6-9b8c-219f5cdeaa4f",
   "metadata": {},
   "source": [
    "#### B.5) Initial Response Times"
   ]
  },
  {
   "cell_type": "code",
   "execution_count": 18,
   "id": "3b7028ee-6a5d-4a83-a408-587187999f25",
   "metadata": {},
   "outputs": [
    {
     "data": {
      "application/vnd.jupyter.widget-view+json": {
       "model_id": "2011deb5cbe04180a41f51b105b92708",
       "version_major": 2,
       "version_minor": 0
      },
      "text/plain": [
       "  0%|          | 0/1654 [00:00<?, ?it/s]"
      ]
     },
     "metadata": {},
     "output_type": "display_data"
    }
   ],
   "source": [
    "# individual trials (histogram)\n",
    "# only trials initiated with correct recall\n",
    "rti_at_data_only_cr = analyses.rt_init_all_trials(df_strat, condition_map, toggle=True)\n",
    "rti_at_data_only_cr.to_csv('analyses/dataframes/rti_at_data_only_cr.csv', index=False)"
   ]
  },
  {
   "cell_type": "code",
   "execution_count": 19,
   "id": "aa5659d0-ea16-4a36-8823-bddcd8f75764",
   "metadata": {},
   "outputs": [
    {
     "data": {
      "application/vnd.jupyter.widget-view+json": {
       "model_id": "9122cabb2bd24feea3d210242f3ea4a9",
       "version_major": 2,
       "version_minor": 0
      },
      "text/plain": [
       "  0%|          | 0/1654 [00:00<?, ?it/s]"
      ]
     },
     "metadata": {},
     "output_type": "display_data"
    }
   ],
   "source": [
    "# averages\n",
    "# only trials initiated with correct recall\n",
    "rti_data_only_cr = analyses.rt_init(df_strat, condition_map, toggle=True)\n",
    "rti_data_only_cr_bsa = analyses.rti_btwn_subj_avg(rti_data_only_cr)\n",
    "rti_data_only_cr_bsa.to_csv('analyses/dataframes/rti_data_only_cr_bsa.csv', index=False)"
   ]
  },
  {
   "cell_type": "markdown",
   "id": "f388e002-2080-4162-8358-9e9a153315a5",
   "metadata": {},
   "source": [
    "#### B.6) Intrusion Rates (PLI, ELI)"
   ]
  },
  {
   "cell_type": "code",
   "execution_count": 20,
   "id": "4897b4da-6d2e-477d-b9fa-5787731b130a",
   "metadata": {},
   "outputs": [
    {
     "data": {
      "application/vnd.jupyter.widget-view+json": {
       "model_id": "3a327988670447d5b905602546950d78",
       "version_major": 2,
       "version_minor": 0
      },
      "text/plain": [
       "  0%|          | 0/1654 [00:00<?, ?it/s]"
      ]
     },
     "metadata": {},
     "output_type": "display_data"
    }
   ],
   "source": [
    "# only lists initiated with a correct recall\n",
    "intr_data_only_cr = analyses.intrusion_rates(df_strat, condition_map, toggle=True)\n",
    "intr_data_only_cr_bsa = analyses.intrusion_rates_btwn_subj_avg(intr_data_only_cr)\n",
    "intr_data_only_cr_bsa.to_csv('analyses/dataframes/intr_data_only_cr_bsa.csv', index=False)"
   ]
  },
  {
   "cell_type": "markdown",
   "id": "fe97515e-007f-45af-b40c-e0af83e8b8da",
   "metadata": {},
   "source": [
    "#### B.7) Inter-Response Times"
   ]
  },
  {
   "cell_type": "code",
   "execution_count": 21,
   "id": "17c847b0-d990-4dd6-90a2-0702907032f3",
   "metadata": {},
   "outputs": [
    {
     "data": {
      "application/vnd.jupyter.widget-view+json": {
       "model_id": "242b2940fa2c46dbbf43e8ced19f23fc",
       "version_major": 2,
       "version_minor": 0
      },
      "text/plain": [
       "  0%|          | 0/1654 [00:00<?, ?it/s]"
      ]
     },
     "metadata": {},
     "output_type": "display_data"
    }
   ],
   "source": [
    "# joint function of number of correct recalls and output position\n",
    "irt_data = analyses.irt(df_strat, condition_map)\n",
    "irt_data_bsa = analyses.irt_btwn_subj_avg(irt_data)\n",
    "irt_data_bsa.to_csv('analyses/dataframes/irt_data_bsa.csv', index=False)"
   ]
  },
  {
   "cell_type": "code",
   "execution_count": 22,
   "id": "1b162c70-59f0-4905-b070-a69ce013ce05",
   "metadata": {},
   "outputs": [
    {
     "data": {
      "application/vnd.jupyter.widget-view+json": {
       "model_id": "b8d08f29140b42d1b71ebce56ae579fc",
       "version_major": 2,
       "version_minor": 0
      },
      "text/plain": [
       "  0%|          | 0/1654 [00:00<?, ?it/s]"
      ]
     },
     "metadata": {},
     "output_type": "display_data"
    }
   ],
   "source": [
    "# final N recalls of trial\n",
    "# only trials with mu +/- sig correct recalls\n",
    "mwr_md = []\n",
    "for c, group in mwr_data_bsa.groupby('condition'):\n",
    "    mwr_md.append((c, np.mean(group.mwr), np.std(group.mwr, ddof=1)))\n",
    "    \n",
    "mwr_md = pd.DataFrame(mwr_md, columns=['condition', 'mwr', 'stdev'])\n",
    "mwr_md['lb'] = np.floor(mwr_md['mwr'] - mwr_md['stdev']).astype(int)\n",
    "mwr_md['ub'] = np.ceil(mwr_md['mwr'] + mwr_md['stdev']).astype(int)\n",
    "\n",
    "irt_final_data = analyses.irt_final(df_strat, condition_map, mwr_md)\n",
    "irt_final_data_bsa = analyses.irt_final_btwn_subj_avg(irt_final_data)\n",
    "irt_final_data_bsa.to_csv('analyses/dataframes/irt_final_data_bsa.csv', index=False)\n",
    "\n",
    "# final 4 transitions for statistics\n",
    "irt_final_4_data_bsa = pd.melt(irt_final_data_bsa, id_vars=['subject', 'strategy', 'condition', 'l_length', 'pres_rate'],\n",
    "                           value_vars=[f'rot_{x}' for x in range(3, -1, -1)], var_name='relative_output_transition', value_name='irt')\n",
    "irt_final_4_data_bsa['relative_output_transition'] = [-int(x.split('_')[-1]) for x in irt_final_4_data_bsa.relative_output_transition]\n",
    "irt_final_4_data_bsa.rename(columns={'relative_output_transition': 'rot'}, inplace=True)\n",
    "irt_final_4_data_bsa.to_csv('analyses/dataframes/irt_final_4_data_bsa.csv', index=False)"
   ]
  },
  {
   "cell_type": "code",
   "execution_count": 23,
   "id": "a26028a1-104d-4c6f-b35e-d7fa041f10f4",
   "metadata": {},
   "outputs": [
    {
     "data": {
      "application/vnd.jupyter.widget-view+json": {
       "model_id": "389742e1f07f4d96acb5de65820791ad",
       "version_major": 2,
       "version_minor": 0
      },
      "text/plain": [
       "  0%|          | 0/1654 [00:00<?, ?it/s]"
      ]
     },
     "metadata": {},
     "output_type": "display_data"
    }
   ],
   "source": [
    "# total time for each half of correct recalls\n",
    "irt_tot_data = analyses.irt_tot(df_strat, condition_map)\n",
    "irt_tot_data_bsa = analyses.irt_tot_btwn_subj_avg(irt_tot_data)\n",
    "irt_tot_data_bsa.to_csv('analyses/dataframes/irt_tot_data_bsa.csv', index=False)"
   ]
  },
  {
   "cell_type": "markdown",
   "id": "63b39cf5-d5c5-4989-abb5-021ae68dde18",
   "metadata": {},
   "source": [
    "#### B.8) Temporal Clustering Score"
   ]
  },
  {
   "cell_type": "code",
   "execution_count": 24,
   "id": "80a51e09-2f31-42ff-af67-ebf03b92f29d",
   "metadata": {},
   "outputs": [
    {
     "data": {
      "application/vnd.jupyter.widget-view+json": {
       "model_id": "64fbb1807e2b49c6868baee4d0272ca4",
       "version_major": 2,
       "version_minor": 0
      },
      "text/plain": [
       "  0%|          | 0/1654 [00:00<?, ?it/s]"
      ]
     },
     "metadata": {},
     "output_type": "display_data"
    }
   ],
   "source": [
    "# all recalls\n",
    "tcl_data = analyses.tcl(df_strat, condition_map, 0)\n",
    "tcl_data_bsa = analyses.tcl_btwn_subj_avg(tcl_data)\n",
    "tcl_data_bsa.to_csv('analyses/dataframes/tcl_data_bsa.csv', index=False)"
   ]
  },
  {
   "cell_type": "code",
   "execution_count": 25,
   "id": "32193f41-1e04-4d1e-b71f-44015927d2db",
   "metadata": {},
   "outputs": [
    {
     "data": {
      "application/vnd.jupyter.widget-view+json": {
       "model_id": "10ca4cbc117f470d8a60af6936098022",
       "version_major": 2,
       "version_minor": 0
      },
      "text/plain": [
       "  0%|          | 0/1654 [00:00<?, ?it/s]"
      ]
     },
     "metadata": {},
     "output_type": "display_data"
    }
   ],
   "source": [
    "# split half of recalls\n",
    "tcl_h_data = analyses.tcl_h(df_strat, condition_map)\n",
    "tcl_h_data_bsa = analyses.tcl_h_btwn_subj_avg(tcl_h_data)\n",
    "tcl_h_data_bsa.to_csv('analyses/dataframes/tcl_h_data_bsa.csv', index=False)"
   ]
  },
  {
   "cell_type": "markdown",
   "id": "84a9a3d7-a549-4631-a70e-a0eaca09b29e",
   "metadata": {},
   "source": [
    "#### B.9) Lag-CRP"
   ]
  },
  {
   "cell_type": "code",
   "execution_count": 4,
   "id": "78e6c887-c09e-4423-9353-24dadbc5fae7",
   "metadata": {},
   "outputs": [
    {
     "data": {
      "application/vnd.jupyter.widget-view+json": {
       "model_id": "1f84e5aedae34deea47a55ed2112336a",
       "version_major": 2,
       "version_minor": 0
      },
      "text/plain": [
       "  0%|          | 0/1654 [00:00<?, ?it/s]"
      ]
     },
     "metadata": {},
     "output_type": "display_data"
    }
   ],
   "source": [
    "# full lag-CRP, exlude first \"buffer\" recalls\n",
    "lcrp_data = analyses.lag_crp(df_strat, condition_map, 0)\n",
    "lcrp_data_bsa = analyses.lag_crp_btwn_subj_avg(lcrp_data)\n",
    "lcrp_data_bsa.to_csv('analyses/dataframes/lcrp_data_bsa.csv', index=False)"
   ]
  },
  {
   "cell_type": "code",
   "execution_count": 7,
   "id": "312921dc-b361-48e0-aa34-cf64fd76f7db",
   "metadata": {},
   "outputs": [],
   "source": [
    "# forward asymmetry (integral of lag-CRP)\n",
    "fwd_asym_data = lcrp_data.apply(analyses.forward_asymmetry, n=1, axis=1)\n",
    "fwd_asym_data_bsa = analyses.forward_asymmetry_btwn_subj_avg(fwd_asym_data)\n",
    "fwd_asym_data_bsa.to_csv('analyses/dataframes/fwd_asym_data_bsa.csv', index=False)"
   ]
  },
  {
   "cell_type": "markdown",
   "id": "11122330-d21e-41d1-8974-9d765cd152ca",
   "metadata": {},
   "source": [
    "#### B.10) Semantic Clustering Score"
   ]
  },
  {
   "cell_type": "code",
   "execution_count": 29,
   "id": "6a4ff328-af28-4355-8def-8c8781cb7581",
   "metadata": {},
   "outputs": [
    {
     "data": {
      "application/vnd.jupyter.widget-view+json": {
       "model_id": "c55b1d0208344da2b535f1cd84d09804",
       "version_major": 2,
       "version_minor": 0
      },
      "text/plain": [
       "  0%|          | 0/1654 [00:00<?, ?it/s]"
      ]
     },
     "metadata": {},
     "output_type": "display_data"
    }
   ],
   "source": [
    "scl_data = analyses.scl(df_strat, condition_map, 0, wordpool, w2v_scores)\n",
    "scl_data_bsa = analyses.scl_btwn_subj_avg(scl_data)\n",
    "scl_data_bsa.to_csv('analyses/dataframes/scl_data_bsa.csv', index=False)"
   ]
  },
  {
   "cell_type": "markdown",
   "id": "b21c6155-dc01-4e7e-8ef6-d48f843753a6",
   "metadata": {},
   "source": [
    "### (C) Other Group Analyses\n",
    "\n",
    "Compare trials where recall is initiated with a primacy v. recency item, Other group.\n",
    "\n",
    "1. Mean Words Recalled\n",
    "2. Initial Response Times\n",
    "3. Temporal Clustering Score"
   ]
  },
  {
   "cell_type": "markdown",
   "id": "b1c9c43b-928d-4ee2-a2b2-4fcd0afc1923",
   "metadata": {},
   "source": [
    "#### C.1) Mean Words Recalled"
   ]
  },
  {
   "cell_type": "code",
   "execution_count": 30,
   "id": "21de9e4e-39f2-40d4-8c7b-298a8b3bdcf0",
   "metadata": {},
   "outputs": [
    {
     "data": {
      "application/vnd.jupyter.widget-view+json": {
       "model_id": "47f68adb346f463e9ffffc9791a06362",
       "version_major": 2,
       "version_minor": 0
      },
      "text/plain": [
       "  0%|          | 0/487 [00:00<?, ?it/s]"
      ]
     },
     "metadata": {},
     "output_type": "display_data"
    }
   ],
   "source": [
    "mwr_ns_data = analyses.mwr_ns(df_strat, condition_map)\n",
    "mwr_ns_data_bsa = analyses.mwr_ns_btwn_subj_avg(mwr_ns_data)\n",
    "\n",
    "# only participants with data in both bins\n",
    "mwr_ns_data_bsa = mwr_ns_data_bsa.dropna()\n",
    "\n",
    "# re-organize dataframe\n",
    "mwr_ns_data_bsa = pd.melt(mwr_ns_data_bsa, id_vars=['subject', 'strategy', 'condition', 'l_length', 'pres_rate'],\n",
    "                          value_vars=['mwr_prim', 'mwr_rec'], var_name='r1_label', value_name='mwr')\n",
    "\n",
    "mwr_ns_data_bsa.to_csv('analyses/dataframes/mwr_ns_data_bsa.csv', index=False)"
   ]
  },
  {
   "cell_type": "markdown",
   "id": "2273b49d-d80e-4e6c-bb2a-16eec6de8c89",
   "metadata": {},
   "source": [
    "#### C.2) Initial Response Times"
   ]
  },
  {
   "cell_type": "code",
   "execution_count": 31,
   "id": "2b634f96-7ffc-41b0-8c48-c1057f2bf151",
   "metadata": {},
   "outputs": [],
   "source": [
    "# individual trials (histogram)\n",
    "# only trials initiated with correct recall\n",
    "rti_at_ns_data_only_cr = rti_at_data_only_cr.query(\"strategy == 'ns'\")\n",
    "\n",
    "subjs_both_bins = []\n",
    "for (sub, c, ll, pr), data in rti_at_ns_data_only_cr.groupby(['subject', 'condition', 'l_length', 'pres_rate']):\n",
    "    prim_data = data[(data.serial_position >= 1) & (data.serial_position <= 4)]\n",
    "    rec_data = data[(data.serial_position >= ll-3) & (data.serial_position <= ll)]\n",
    "    \n",
    "    if len(prim_data) > 0 and len(rec_data) > 0:\n",
    "        subjs_both_bins.append(sub)\n",
    "        \n",
    "rti_at_ns_data_only_cr = rti_at_ns_data_only_cr[rti_at_ns_data_only_cr.subject.isin(subjs_both_bins)]\n",
    "\n",
    "rti_at_ns_data_only_cr.to_csv('analyses/dataframes/rti_at_ns_data_only_cr.csv', index=False)"
   ]
  },
  {
   "cell_type": "code",
   "execution_count": 32,
   "id": "7eadc4ec-5885-4cfa-bcbe-c4978c7fa75b",
   "metadata": {},
   "outputs": [
    {
     "data": {
      "application/vnd.jupyter.widget-view+json": {
       "model_id": "09e8d7d5a29e4a54a67d30c46525de59",
       "version_major": 2,
       "version_minor": 0
      },
      "text/plain": [
       "  0%|          | 0/487 [00:00<?, ?it/s]"
      ]
     },
     "metadata": {},
     "output_type": "display_data"
    }
   ],
   "source": [
    "# averages\n",
    "# only trials initiated with correct recall\n",
    "rti_ns_data = analyses.rt_init_ns(rti_at_data_only_cr)\n",
    "rti_ns_data_bsa = analyses.rti_ns_btwn_subj_avg(rti_ns_data)\n",
    "\n",
    "# only participants with data in both bins\n",
    "rti_ns_data_bsa = rti_ns_data_bsa.dropna()\n",
    "\n",
    "# re-organize dataframe\n",
    "rti_ns_data_bsa = pd.melt(rti_ns_data_bsa, id_vars=['subject', 'strategy', 'condition', 'l_length', 'pres_rate'],\n",
    "                          value_vars=['rt_prim', 'rt_rec'], var_name='r1_label', value_name='rt')\n",
    "\n",
    "rti_ns_data_bsa.to_csv('analyses/dataframes/rti_ns_data_bsa.csv', index=False)"
   ]
  },
  {
   "cell_type": "markdown",
   "id": "74029017-c404-45f8-b2aa-4e019c7f2c0f",
   "metadata": {},
   "source": [
    "#### C.3) Temporal Clustering Score"
   ]
  },
  {
   "cell_type": "code",
   "execution_count": 33,
   "id": "15307be0-b515-4b10-a207-4202b7906f6c",
   "metadata": {},
   "outputs": [
    {
     "data": {
      "application/vnd.jupyter.widget-view+json": {
       "model_id": "dbfe67149c68497db96c8c326ebaebdc",
       "version_major": 2,
       "version_minor": 0
      },
      "text/plain": [
       "  0%|          | 0/487 [00:00<?, ?it/s]"
      ]
     },
     "metadata": {},
     "output_type": "display_data"
    }
   ],
   "source": [
    "tcl_ns_data = analyses.tcl_ns(df_strat, condition_map)\n",
    "tcl_ns_data_bsa = analyses.tcl_ns_btwn_subj_avg(tcl_ns_data)\n",
    "\n",
    "# only participants with data in both bins\n",
    "tcl_ns_data_bsa = tcl_ns_data_bsa.dropna()\n",
    "\n",
    "# re-organize dataframe\n",
    "tcl_ns_data_bsa = pd.melt(tcl_ns_data_bsa, id_vars=['subject', 'strategy', 'condition', 'l_length', 'pres_rate'],\n",
    "                          value_vars=['tcl_prim', 'tcl_rec'], var_name='r1_label', value_name='tcl')\n",
    "\n",
    "tcl_ns_data_bsa.to_csv('analyses/dataframes/tcl_ns_data_bsa.csv', index=False)"
   ]
  }
 ],
 "metadata": {
  "kernelspec": {
   "display_name": "bids",
   "language": "python",
   "name": "bids"
  },
  "language_info": {
   "codemirror_mode": {
    "name": "ipython",
    "version": 3
   },
   "file_extension": ".py",
   "mimetype": "text/x-python",
   "name": "python",
   "nbconvert_exporter": "python",
   "pygments_lexer": "ipython3",
   "version": "3.11.4"
  }
 },
 "nbformat": 4,
 "nbformat_minor": 5
}
