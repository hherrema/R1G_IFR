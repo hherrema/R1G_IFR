{
 "cells": [
  {
   "cell_type": "markdown",
   "id": "2495f62c-fd87-4c42-9a9b-bdf1f19ecf0b",
   "metadata": {},
   "source": [
    "## Meta Analyses"
   ]
  },
  {
   "cell_type": "code",
   "execution_count": 1,
   "id": "0f9072c3-a97c-4e39-8ec1-20d77aca99b5",
   "metadata": {},
   "outputs": [],
   "source": [
    "# imports\n",
    "import pandas as pd\n",
    "import numpy as np\n",
    "import json"
   ]
  },
  {
   "cell_type": "markdown",
   "id": "d80d21b7-9c82-4cc8-aba3-fd41f001f449",
   "metadata": {},
   "source": [
    "### Participant Counts"
   ]
  },
  {
   "cell_type": "markdown",
   "id": "e0cc9d75-061b-40e5-822a-561011e0e8d7",
   "metadata": {},
   "source": [
    "#### Completion of Each Session"
   ]
  },
  {
   "cell_type": "code",
   "execution_count": 2,
   "id": "6c9d7ef3-9a51-4e19-a35b-8c034cab002b",
   "metadata": {},
   "outputs": [
    {
     "data": {
      "text/plain": [
       "(1184, 547, 463, 401, 353)"
      ]
     },
     "execution_count": 2,
     "metadata": {},
     "output_type": "execute_result"
    }
   ],
   "source": [
    "s0 = pd.read_csv('data/data_storage/events_df_0.csv')\n",
    "s1 = pd.read_csv('data/data_storage/events_df_1.csv')\n",
    "s2 = pd.read_csv('data/data_storage/events_df_2.csv')\n",
    "s3 = pd.read_csv('data/data_storage/events_df_3.csv')\n",
    "s4 = pd.read_csv('data/data_storage/events_df_4.csv')\n",
    "\n",
    "len(s0.worker_id.unique()), len(s1.worker_id.unique()), len(s2.worker_id.unique()), len(s3.worker_id.unique()), len(s4.worker_id.unique())"
   ]
  },
  {
   "cell_type": "markdown",
   "id": "1948aeb0-be6e-4315-9906-82d7fb439213",
   "metadata": {},
   "source": [
    "#### Used for Analyses\n",
    "\n",
    "After checks for passing all exclusion criteria, same condition for return sessions."
   ]
  },
  {
   "cell_type": "code",
   "execution_count": 3,
   "id": "584937a3-71b6-4601-94bf-8a745505ea92",
   "metadata": {},
   "outputs": [
    {
     "data": {
      "text/plain": [
       "456"
      ]
     },
     "execution_count": 3,
     "metadata": {},
     "output_type": "execute_result"
    }
   ],
   "source": [
    "df = pd.read_csv('data/data_storage/dataframe.csv')\n",
    "len(df.worker_id.unique())"
   ]
  },
  {
   "cell_type": "markdown",
   "id": "06765988-ffbf-4cdc-a258-49b2b8802895",
   "metadata": {},
   "source": [
    "#### Recall Initiation Groups"
   ]
  },
  {
   "cell_type": "code",
   "execution_count": 12,
   "id": "2570030d-0148-482b-a471-22b4ff697feb",
   "metadata": {},
   "outputs": [
    {
     "data": {
      "text/plain": [
       "(strat\n",
       " ns      136\n",
       " prim    174\n",
       " rec     146\n",
       " Name: subject, dtype: int64,\n",
       " condition  strat\n",
       " 10-2       ns       21\n",
       "            prim     29\n",
       "            rec      20\n",
       " 15-2       ns       32\n",
       "            prim     39\n",
       "            rec      22\n",
       " 20-1       ns       23\n",
       "            prim     23\n",
       "            rec      24\n",
       " 20-2       ns       18\n",
       "            prim     32\n",
       "            rec      24\n",
       " 30-1       ns       22\n",
       "            prim     25\n",
       "            rec      29\n",
       " 40-1       ns       20\n",
       "            prim     26\n",
       "            rec      27\n",
       " Name: subject, dtype: int64)"
      ]
     },
     "execution_count": 12,
     "metadata": {},
     "output_type": "execute_result"
    }
   ],
   "source": [
    "r1_groups = pd.read_csv('analyses/dataframes/r1_groups.csv')\n",
    "r1_groups.groupby(['strat'])['subject'].count(), r1_groups.groupby(['condition', 'strat'])['subject'].count()"
   ]
  },
  {
   "cell_type": "markdown",
   "id": "d7e7c0f0-cc9a-4736-8b3d-7b61dcb923fc",
   "metadata": {},
   "source": [
    "### Ages\n",
    "\n",
    "Mean and standard deviation for recall initiation groups."
   ]
  },
  {
   "cell_type": "code",
   "execution_count": 6,
   "id": "8e0bba7d-590a-455e-b9ab-fcca6f6ebbce",
   "metadata": {},
   "outputs": [],
   "source": [
    "with open('data/data_storage/age_dict_0.json', 'r') as f:\n",
    "    ad0 = json.load(f)\n",
    "    \n",
    "with open('data/data_storage/age_dict_2.json', 'r') as f:\n",
    "    ad2 = json.load(f)\n",
    "    \n",
    "with open('data/data_storage/age_dict_4.json', 'r') as f:\n",
    "    ad4 = json.load(f)\n",
    "    \n",
    "    \n",
    "age_df_0 = pd.DataFrame(list(ad0.items()), columns=['subject', 'age'])\n",
    "age_df_2 = pd.DataFrame(list(ad2.items()), columns=['subject', 'age'])\n",
    "age_df_4 = pd.DataFrame(list(ad4.items()), columns=['subject', 'age'])\n",
    "\n",
    "age_df = pd.concat([age_df_0, age_df_2, age_df_4], ignore_index=True).drop_duplicates()"
   ]
  },
  {
   "cell_type": "code",
   "execution_count": 7,
   "id": "f614e6d3-fc61-43b2-9558-ea61443e622a",
   "metadata": {},
   "outputs": [],
   "source": [
    "# convert from strings\n",
    "# remove values >= 100\n",
    "ages = []\n",
    "for x in age_df.age:\n",
    "    try:\n",
    "        age = int(x)\n",
    "        if age < 100:\n",
    "            ages.append(age)\n",
    "        else:\n",
    "            ages.append(np.nan)\n",
    "    except BaseException:\n",
    "        ages.append(np.nan)\n",
    "        \n",
    "age_df['age'] = ages\n",
    "\n",
    "# multiple responses, take mean\n",
    "age_df = age_df.groupby('subject')['age'].mean().reset_index()\n",
    "\n",
    "ages = []\n",
    "for _, row in r1_groups.iterrows():\n",
    "    age_data = age_df[age_df.subject == row.subject]\n",
    "    if len(age_data) == 1:\n",
    "        ages.append(age_data.iloc[0].age)\n",
    "    else:\n",
    "        ages.append(np.nan)\n",
    "        \n",
    "r1_groups['age'] = ages"
   ]
  },
  {
   "cell_type": "code",
   "execution_count": 8,
   "id": "cfc0219c-f005-4eff-be0a-997c40948c1b",
   "metadata": {},
   "outputs": [
    {
     "data": {
      "text/plain": [
       "(strat\n",
       " ns      38.451613\n",
       " prim    38.259036\n",
       " rec     37.738281\n",
       " Name: age, dtype: float64,\n",
       " strat\n",
       " ns      11.398521\n",
       " prim    11.702334\n",
       " rec     10.130442\n",
       " Name: age, dtype: float64,\n",
       " strat\n",
       " ns      124\n",
       " prim    166\n",
       " rec     128\n",
       " Name: age, dtype: int64)"
      ]
     },
     "execution_count": 8,
     "metadata": {},
     "output_type": "execute_result"
    }
   ],
   "source": [
    "r1_groups.groupby('strat')['age'].mean(), r1_groups.groupby('strat')['age'].std(ddof=1), r1_groups.groupby('strat')['age'].count()"
   ]
  }
 ],
 "metadata": {
  "kernelspec": {
   "display_name": "bids",
   "language": "python",
   "name": "bids"
  },
  "language_info": {
   "codemirror_mode": {
    "name": "ipython",
    "version": 3
   },
   "file_extension": ".py",
   "mimetype": "text/x-python",
   "name": "python",
   "nbconvert_exporter": "python",
   "pygments_lexer": "ipython3",
   "version": "3.11.4"
  }
 },
 "nbformat": 4,
 "nbformat_minor": 5
}
