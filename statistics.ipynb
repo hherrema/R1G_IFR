{
 "cells": [
  {
   "cell_type": "markdown",
   "id": "30255a35-609a-49fb-b3b0-188be2ffc48d",
   "metadata": {},
   "source": [
    "## Statistics"
   ]
  },
  {
   "cell_type": "code",
   "execution_count": 9,
   "id": "8fbfcd96-0d93-476e-88d3-2d37d9c94ab0",
   "metadata": {},
   "outputs": [],
   "source": [
    "# imports\n",
    "import pandas as pd\n",
    "import numpy as np\n",
    "import scipy.stats"
   ]
  },
  {
   "cell_type": "markdown",
   "id": "d9a0ec6f-e68a-4992-8cc1-5eecb9dd75ae",
   "metadata": {},
   "source": [
    "#### Primacy and Recency Effect"
   ]
  },
  {
   "cell_type": "code",
   "execution_count": 15,
   "id": "e8e6e5d8-82f6-499f-93c1-59171782c4ff",
   "metadata": {},
   "outputs": [],
   "source": [
    "# primacy and recency effect\n",
    "# 1-sample t-test against mean of 0\n",
    "def prim_rec_slopes_statistics(spc_prim_rec_lr_all):\n",
    "    stats = []\n",
    "    for (c, ll, pr), cond_data in spc_prim_rec_lr_all.groupby(['condition', 'l_length', 'pres_rate']):\n",
    "        prim_res = scipy.stats.ttest_1samp(cond_data.prim_slope, popmean=0, alternative='two-sided')\n",
    "        rec_res = scipy.stats.ttest_1samp(cond_data.rec_slope, popmean=0, alternative='two-sided')\n",
    "        stats.append((c, ll, pr, prim_res.statistic, prim_res.pvalue, prim_res.df, rec_res.statistic, rec_res.pvalue, rec_res.df))\n",
    "        \n",
    "    stats = pd.DataFrame(stats, columns=['condition', 'l_length', 'pres_rate', \n",
    "                                         'prim_t_stat', 'prim_p_val', 'prim_dof', \n",
    "                                         'rec_t_stat', 'rec_p_val', 'rec_dof'])\n",
    "    \n",
    "    # FDR correction\n",
    "    all_pvals = list(stats.prim_p_val) + list(stats.rec_p_val)\n",
    "    fdr_pvals = scipy.stats.false_discovery_control(all_pvals, method='by')\n",
    "    fdr_prim, fdr_rec = np.split(fdr_pvals, 2)\n",
    "    \n",
    "    stats['prim_p_val_fdr'] = fdr_prim\n",
    "    stats['rec_p_val_fdr'] = fdr_rec\n",
    "    \n",
    "    return stats"
   ]
  },
  {
   "cell_type": "code",
   "execution_count": 16,
   "id": "5628bacd-3912-47c7-8d31-ca0c7f7b8014",
   "metadata": {},
   "outputs": [],
   "source": [
    "spc_prim_rec_lr_all = pd.read_csv('analyses/dataframes/spc_prim_rec_lr_all.csv')\n",
    "spc_prim_rec_lr_all_stats = prim_rec_slopes_statistics(spc_prim_rec_lr_all)\n",
    "spc_prim_rec_lr_all_stats.to_csv('statistics/dataframes/spc_prim_rec_lr_all_stats.csv', index=False)"
   ]
  },
  {
   "cell_type": "markdown",
   "id": "e6344a48-884a-4fe6-a4c6-e91aecbca6e4",
   "metadata": {},
   "source": [
    "#### Primacy and Recency Initiation Bias"
   ]
  },
  {
   "cell_type": "code",
   "execution_count": 17,
   "id": "f13bc1ad-de49-440a-beaa-66cec2a16445",
   "metadata": {},
   "outputs": [],
   "source": [
    "# primacy and recency initiation bias\n",
    "# 1-sample t-test against mean of 0\n",
    "def prim_rec_pfr_statistics(prim_rec_pfr):\n",
    "    stats = []\n",
    "    for (c, ll, pr), cond_data in prim_rec_pfr.groupby(['condition', 'l_length', 'pres_rate']):\n",
    "        res = scipy.stats.ttest_1samp(cond_data.rec_prim_bias, popmean=0, alternative='two-sided')\n",
    "        stats.append((c, ll, pr, res.statistic, res.pvalue, res.df))\n",
    "        \n",
    "    stats = pd.DataFrame(stats, columns=['condition', 'l_length', 'pres_rate', 't_stat', 'p_val', 'dof'])\n",
    "    \n",
    "    # FDR correction\n",
    "    fdr_pvals = scipy.stats.false_discovery_control(stats.p_val, method='by')\n",
    "    stats['p_val_fdr'] = fdr_pvals\n",
    "    \n",
    "    return stats"
   ]
  },
  {
   "cell_type": "code",
   "execution_count": 19,
   "id": "554ed115-4cf0-442b-b4d8-c72b44e4d5d4",
   "metadata": {},
   "outputs": [],
   "source": [
    "prim_rec_pfr = pd.read_csv('analyses/dataframes/prim_rec_pfr.csv')\n",
    "prim_rec_pfr_stats = prim_rec_pfr_statistics(prim_rec_pfr)\n",
    "prim_rec_pfr_stats.to_csv('statistics/dataframes/prim_rec_pfr_stats.csv', index=False)"
   ]
  },
  {
   "cell_type": "markdown",
   "id": "8992a340-ec9d-419d-b4b3-efd978050db2",
   "metadata": {},
   "source": [
    "#### PFR and SPC Correlations"
   ]
  },
  {
   "cell_type": "code",
   "execution_count": 43,
   "id": "69cae4a6-5df1-4ce8-b71c-7aa6fbb4e5b1",
   "metadata": {},
   "outputs": [],
   "source": [
    "# correlation of PFR and SPC (at each serial position)\n",
    "def pfr_spc_correlation_statistics(pfr_spc_corrs):\n",
    "    stats = pfr_spc_corrs.copy()\n",
    "    \n",
    "    # FDR correction (all comparisons)\n",
    "    fdr_pvals = scipy.stats.false_discovery_control(pfr_spc_corrs.p_value, method='by')\n",
    "    stats['p_val_fdr'] = fdr_pvals\n",
    "    \n",
    "    return stats"
   ]
  },
  {
   "cell_type": "code",
   "execution_count": 44,
   "id": "a87bdd07-78f9-43ed-86df-8221b3214b48",
   "metadata": {},
   "outputs": [],
   "source": [
    "pfr_spc_corrs = pd.read_csv('analyses/dataframes/pfr_spc_corrs.csv')\n",
    "pfr_spc_corrs_stats = pfr_spc_correlation_statistics(pfr_spc_corrs)\n",
    "pfr_spc_corrs_stats.to_csv('statistics/dataframes/pfr_spc_corrs_stats.csv', index=False)"
   ]
  },
  {
   "cell_type": "markdown",
   "id": "ddeedf9b-d519-40d8-8d65-0ecbfde350ed",
   "metadata": {},
   "source": [
    "#### Within Session Recall Initiation Variance"
   ]
  },
  {
   "cell_type": "code",
   "execution_count": 23,
   "id": "31610d46-9d9f-4dde-8a50-9bfd57cb7844",
   "metadata": {},
   "outputs": [],
   "source": [
    "# within session recall initiation variance\n",
    "# paired t-test\n",
    "def r1_variance_statistics(r1_var_data_bsa):\n",
    "    stats = []\n",
    "    for (c, ll, pr), cond_data in r1_var_data_bsa.groupby(['condition', 'l_length', 'pres_rate']):\n",
    "        res = scipy.stats.ttest_rel(cond_data.sp_sem, cond_data.permutation_sp_sem, nan_policy='omit', alternative='two-sided')\n",
    "        stats.append((c, ll, pr, res.statistic, res.pvalue, res.df))\n",
    "        \n",
    "    stats = pd.DataFrame(stats, columns=['condition', 'l_length', 'pres_rate', 't_stat', 'p_val', 'dof'])\n",
    "    \n",
    "    # FDR correction\n",
    "    fdr_pvals = scipy.stats.false_discovery_control(stats.p_val, method='by')\n",
    "    stats['p_val_fdr'] = fdr_pvals\n",
    "    \n",
    "    return stats"
   ]
  },
  {
   "cell_type": "code",
   "execution_count": 25,
   "id": "7ea37c42-cb04-4957-b453-e2f0d0998cc8",
   "metadata": {},
   "outputs": [],
   "source": [
    "r1_var_data_bsa = pd.read_csv('analyses/dataframes/r1_var_data_bsa.csv')\n",
    "r1_var_stats = r1_variance_statistics(r1_var_data_bsa)\n",
    "r1_var_stats.to_csv('statistics/dataframes/r1_var_stats.csv', index=False)"
   ]
  },
  {
   "cell_type": "markdown",
   "id": "2a24cb3d-e403-47d8-b8c6-b00dcda179a7",
   "metadata": {},
   "source": [
    "#### Change in Recall Initiation Serial Position Across Sessions"
   ]
  },
  {
   "cell_type": "code",
   "execution_count": 26,
   "id": "86cb5a19-7a71-4312-b4a9-66f42dc1a7ad",
   "metadata": {},
   "outputs": [],
   "source": [
    "# change in recall initiation serial position across sessions\n",
    "# 1-sample t-test against mean of 0\n",
    "def r1_sp_statistics(r1_sp_dec_data_bsa):\n",
    "    stats = []\n",
    "    for (c, ll, pr), cond_data in r1_sp_dec_data_bsa.groupby(['condition', 'l_length', 'pres_rate']):\n",
    "        res = scipy.stats.ttest_1samp(cond_data.r1_sp_slope, popmean=0, alternative='two-sided')\n",
    "        stats.append((c, ll, pr, res.statistic, res.pvalue, res.df))\n",
    "        \n",
    "    stats = pd.DataFrame(stats, columns=['condition', 'l_length', 'pres_rate', 't_stat', 'p_val', 'dof'])\n",
    "    \n",
    "    # FDR corrections\n",
    "    fdr_pvals = scipy.stats.false_discovery_control(stats.p_val, method='by')\n",
    "    stats['p_val_fdr'] = fdr_pvals\n",
    "    \n",
    "    return stats"
   ]
  },
  {
   "cell_type": "code",
   "execution_count": 28,
   "id": "11dc8edc-90be-4378-9938-e6b689707d5b",
   "metadata": {},
   "outputs": [],
   "source": [
    "r1_sp_dec_data_bsa = pd.read_csv('analyses/dataframes/r1_sp_dec_data_bsa.csv')\n",
    "r1_sp_stats = r1_sp_statistics(r1_sp_dec_data_bsa)\n",
    "r1_sp_stats.to_csv('statistics/dataframes/r1_sp_stats.csv', index=False)"
   ]
  },
  {
   "cell_type": "markdown",
   "id": "2b5cd41c-42af-4540-96fc-d1da05c79299",
   "metadata": {},
   "source": [
    "#### Semantic Clustering Score"
   ]
  },
  {
   "cell_type": "code",
   "execution_count": 33,
   "id": "8c51fa32-f04f-437f-9699-d0240d27b63b",
   "metadata": {},
   "outputs": [],
   "source": [
    "# semantic clustering score\n",
    "# 1-sample t-test against mean of 0.5\n",
    "def scl_statistics(scl_data_bsa):\n",
    "    stats = []\n",
    "    for (strat, c, ll, pr), data in scl_data_bsa.groupby(['strategy', 'condition', 'l_length', 'pres_rate']):\n",
    "        res = scipy.stats.ttest_1samp(data.scl, popmean=0.5, nan_policy='omit', alternative='two-sided')\n",
    "        stats.append((strat, c, ll, pr, res.statistic, res.pvalue, res.df))\n",
    "        \n",
    "    stats = pd.DataFrame(stats, columns=['strategy', 'condition', 'l_length', 'pres_rate', 't_stat', 'p_val', 'dof'])\n",
    "    \n",
    "    # FDR correction\n",
    "    fdr_pvals = scipy.stats.false_discovery_control(stats.p_val, method='by')\n",
    "    stats['p_val_fdr'] = fdr_pvals\n",
    "    \n",
    "    return stats"
   ]
  },
  {
   "cell_type": "code",
   "execution_count": 35,
   "id": "0b6ea142-4c3a-43f0-9d6a-6349e2aababb",
   "metadata": {},
   "outputs": [],
   "source": [
    "scl_data_bsa = pd.read_csv('analyses/dataframes/scl_data_bsa.csv')\n",
    "scl_stats = scl_statistics(scl_data_bsa)\n",
    "scl_stats.to_csv('statistics/dataframes/scl_stats.csv', index=False)"
   ]
  }
 ],
 "metadata": {
  "kernelspec": {
   "display_name": "bids",
   "language": "python",
   "name": "bids"
  },
  "language_info": {
   "codemirror_mode": {
    "name": "ipython",
    "version": 3
   },
   "file_extension": ".py",
   "mimetype": "text/x-python",
   "name": "python",
   "nbconvert_exporter": "python",
   "pygments_lexer": "ipython3",
   "version": "3.11.4"
  }
 },
 "nbformat": 4,
 "nbformat_minor": 5
}
